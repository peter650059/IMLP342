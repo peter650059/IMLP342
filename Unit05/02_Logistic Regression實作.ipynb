{
 "cells": [
  {
   "cell_type": "markdown",
   "metadata": {},
   "source": [
    "# 邏輯回歸二分類實作"
   ]
  },
  {
   "cell_type": "markdown",
   "metadata": {},
   "source": [
    "## Step 1: 導入所需的套件"
   ]
  },
  {
   "cell_type": "code",
   "execution_count": 1,
   "metadata": {},
   "outputs": [],
   "source": [
    "## 導入Python的數據處理套件\n",
    "import numpy as np\n",
    "import pandas as pd\n",
    "## 導入視覺化套件\n",
    "import matplotlib.pyplot as plt\n",
    "\n",
    "## 導入Sklearn中的線性模組\n",
    "from sklearn import linear_model\n",
    "\n",
    "## 將數據集分成訓練集與測試集的套件\n",
    "from sklearn.model_selection import train_test_split"
   ]
  },
  {
   "cell_type": "markdown",
   "metadata": {},
   "source": [
    "## Step 2: 導入數據集"
   ]
  },
  {
   "cell_type": "code",
   "execution_count": 2,
   "metadata": {},
   "outputs": [
    {
     "data": {
      "text/html": [
       "<div>\n",
       "<style scoped>\n",
       "    .dataframe tbody tr th:only-of-type {\n",
       "        vertical-align: middle;\n",
       "    }\n",
       "\n",
       "    .dataframe tbody tr th {\n",
       "        vertical-align: top;\n",
       "    }\n",
       "\n",
       "    .dataframe thead th {\n",
       "        text-align: right;\n",
       "    }\n",
       "</style>\n",
       "<table border=\"1\" class=\"dataframe\">\n",
       "  <thead>\n",
       "    <tr style=\"text-align: right;\">\n",
       "      <th></th>\n",
       "      <th>Student</th>\n",
       "      <th>Hours</th>\n",
       "      <th>Pass</th>\n",
       "    </tr>\n",
       "  </thead>\n",
       "  <tbody>\n",
       "    <tr>\n",
       "      <th>0</th>\n",
       "      <td>Jack</td>\n",
       "      <td>4</td>\n",
       "      <td>1</td>\n",
       "    </tr>\n",
       "    <tr>\n",
       "      <th>1</th>\n",
       "      <td>Allen</td>\n",
       "      <td>4</td>\n",
       "      <td>1</td>\n",
       "    </tr>\n",
       "    <tr>\n",
       "      <th>2</th>\n",
       "      <td>Jen</td>\n",
       "      <td>2</td>\n",
       "      <td>0</td>\n",
       "    </tr>\n",
       "    <tr>\n",
       "      <th>3</th>\n",
       "      <td>Dora</td>\n",
       "      <td>3</td>\n",
       "      <td>0</td>\n",
       "    </tr>\n",
       "    <tr>\n",
       "      <th>4</th>\n",
       "      <td>John</td>\n",
       "      <td>1</td>\n",
       "      <td>0</td>\n",
       "    </tr>\n",
       "    <tr>\n",
       "      <th>5</th>\n",
       "      <td>Doris</td>\n",
       "      <td>1</td>\n",
       "      <td>0</td>\n",
       "    </tr>\n",
       "    <tr>\n",
       "      <th>6</th>\n",
       "      <td>Cindy</td>\n",
       "      <td>3</td>\n",
       "      <td>1</td>\n",
       "    </tr>\n",
       "    <tr>\n",
       "      <th>7</th>\n",
       "      <td>Ken</td>\n",
       "      <td>3</td>\n",
       "      <td>1</td>\n",
       "    </tr>\n",
       "    <tr>\n",
       "      <th>8</th>\n",
       "      <td>Angel</td>\n",
       "      <td>4</td>\n",
       "      <td>0</td>\n",
       "    </tr>\n",
       "    <tr>\n",
       "      <th>9</th>\n",
       "      <td>Tom</td>\n",
       "      <td>4</td>\n",
       "      <td>1</td>\n",
       "    </tr>\n",
       "    <tr>\n",
       "      <th>10</th>\n",
       "      <td>Tonny</td>\n",
       "      <td>1</td>\n",
       "      <td>0</td>\n",
       "    </tr>\n",
       "    <tr>\n",
       "      <th>11</th>\n",
       "      <td>Cathy</td>\n",
       "      <td>1</td>\n",
       "      <td>1</td>\n",
       "    </tr>\n",
       "    <tr>\n",
       "      <th>12</th>\n",
       "      <td>Candy</td>\n",
       "      <td>2</td>\n",
       "      <td>1</td>\n",
       "    </tr>\n",
       "    <tr>\n",
       "      <th>13</th>\n",
       "      <td>James</td>\n",
       "      <td>2</td>\n",
       "      <td>0</td>\n",
       "    </tr>\n",
       "    <tr>\n",
       "      <th>14</th>\n",
       "      <td>Jennica</td>\n",
       "      <td>3</td>\n",
       "      <td>1</td>\n",
       "    </tr>\n",
       "    <tr>\n",
       "      <th>15</th>\n",
       "      <td>Jenny</td>\n",
       "      <td>3</td>\n",
       "      <td>1</td>\n",
       "    </tr>\n",
       "    <tr>\n",
       "      <th>16</th>\n",
       "      <td>Alex</td>\n",
       "      <td>3</td>\n",
       "      <td>0</td>\n",
       "    </tr>\n",
       "    <tr>\n",
       "      <th>17</th>\n",
       "      <td>Jessica</td>\n",
       "      <td>3</td>\n",
       "      <td>0</td>\n",
       "    </tr>\n",
       "    <tr>\n",
       "      <th>18</th>\n",
       "      <td>Candy</td>\n",
       "      <td>2</td>\n",
       "      <td>1</td>\n",
       "    </tr>\n",
       "  </tbody>\n",
       "</table>\n",
       "</div>"
      ],
      "text/plain": [
       "    Student  Hours  Pass\n",
       "0      Jack      4     1\n",
       "1     Allen      4     1\n",
       "2       Jen      2     0\n",
       "3      Dora      3     0\n",
       "4      John      1     0\n",
       "5     Doris      1     0\n",
       "6     Cindy      3     1\n",
       "7       Ken      3     1\n",
       "8     Angel      4     0\n",
       "9       Tom      4     1\n",
       "10    Tonny      1     0\n",
       "11    Cathy      1     1\n",
       "12    Candy      2     1\n",
       "13    James      2     0\n",
       "14  Jennica      3     1\n",
       "15    Jenny      3     1\n",
       "16     Alex      3     0\n",
       "17  Jessica      3     0\n",
       "18    Candy      2     1"
      ]
     },
     "execution_count": 2,
     "metadata": {},
     "output_type": "execute_result"
    }
   ],
   "source": [
    "## 導入數據集\n",
    "data = pd.read_csv('data/logistic_regression_sample.csv')\n",
    "\n",
    "## 顯示數據集\n",
    "data"
   ]
  },
  {
   "cell_type": "markdown",
   "metadata": {},
   "source": [
    "## Step 3: 定義自變量與應變量"
   ]
  },
  {
   "cell_type": "code",
   "execution_count": 3,
   "metadata": {},
   "outputs": [
    {
     "name": "stdout",
     "output_type": "stream",
     "text": [
      "Independent Variable:  [4 4 2 3 1 1 3 3 4 4 1 1 2 2 3 3 3 3 2]\n",
      "Dependent Variable:  [1 1 0 0 0 0 1 1 0 1 0 1 1 0 1 1 0 0 1]\n"
     ]
    }
   ],
   "source": [
    "## 定義自變量與應變量\n",
    "X = data['Hours'].values\n",
    "y = data['Pass'].values\n",
    "\n",
    "print('Independent Variable: ', X)\n",
    "print('Dependent Variable: ', y)\n"
   ]
  },
  {
   "cell_type": "markdown",
   "metadata": {},
   "source": [
    "## Step 4: 將特徵向量轉為2D向量"
   ]
  },
  {
   "cell_type": "code",
   "execution_count": 4,
   "metadata": {},
   "outputs": [
    {
     "name": "stdout",
     "output_type": "stream",
     "text": [
      "Original X shape:  (19,)\n",
      "[[4]\n",
      " [4]\n",
      " [2]\n",
      " [3]\n",
      " [1]\n",
      " [1]\n",
      " [3]\n",
      " [3]\n",
      " [4]\n",
      " [4]\n",
      " [1]\n",
      " [1]\n",
      " [2]\n",
      " [2]\n",
      " [3]\n",
      " [3]\n",
      " [3]\n",
      " [3]\n",
      " [2]]\n",
      "After reshaping data to 2D vector :  (19, 1)\n"
     ]
    }
   ],
   "source": [
    "## 由於 Sklearn 能接受的特徵格式為 (n_samples, n_features)，所以使用 reshape 將特徵資料轉為2D向量，這樣 Sklearn 才能使用，一般狀況下，一維特徵才需要轉換\n",
    "print('Original X shape: ', X.shape)\n",
    "\n",
    "## reshape用法: -1代表自動配置幾個框框(程式會自行根據有幾個值配置幾個框框架，也就是拿總共的數量除以後面設定框框內有幾個值)\n",
    "## 轉為2D向量\n",
    "X = X.reshape(-1, 1)\n",
    "print(X)\n",
    "print('After reshaping data to 2D vector : ', X.shape)"
   ]
  },
  {
   "cell_type": "markdown",
   "metadata": {},
   "source": [
    "## Step 5: 將數據集分成訓練集與測試集"
   ]
  },
  {
   "cell_type": "code",
   "execution_count": 5,
   "metadata": {},
   "outputs": [],
   "source": [
    "## 將數據集分成訓練集與測試集\n",
    "X_train, X_test, y_train, y_test = train_test_split(X, y, test_size = 0.2)"
   ]
  },
  {
   "cell_type": "markdown",
   "metadata": {},
   "source": [
    "## Step 6: 建立邏輯迴歸模型 Logistic Regression Model 與訓練模型"
   ]
  },
  {
   "cell_type": "code",
   "execution_count": 6,
   "metadata": {},
   "outputs": [
    {
     "data": {
      "text/plain": [
       "LogisticRegression()"
      ]
     },
     "execution_count": 6,
     "metadata": {},
     "output_type": "execute_result"
    }
   ],
   "source": [
    "## 建立邏輯迴歸模型\n",
    "model = linear_model.LogisticRegression()\n",
    "\n",
    "## 擬和數據\n",
    "model.fit(X_train, y_train)"
   ]
  },
  {
   "cell_type": "markdown",
   "metadata": {},
   "source": [
    "## Step 7: 檢視模型係數與截距 Coeficient & Interception"
   ]
  },
  {
   "cell_type": "code",
   "execution_count": 7,
   "metadata": {},
   "outputs": [
    {
     "name": "stdout",
     "output_type": "stream",
     "text": [
      "Coeficient:  0.4075119133491607\n",
      "Interception:  -0.7219015543412572\n"
     ]
    }
   ],
   "source": [
    "## 查看建出來的模型係數與截距 y = w1x + w0\n",
    "w1 = float(model.coef_)\n",
    "w0 = float(model.intercept_)\n",
    "\n",
    "print('Coeficient: ', w1)\n",
    "print('Interception: ', w0)"
   ]
  },
  {
   "cell_type": "markdown",
   "metadata": {},
   "source": [
    "## Step 8: Sigmoid - 套入轉換函數 (將Logit(Odds)值轉換成 -> 0~1之間的數值)"
   ]
  },
  {
   "cell_type": "code",
   "execution_count": 8,
   "metadata": {},
   "outputs": [],
   "source": [
    "## 套用 Sigmoid轉換函數，將值轉換成介於0~1 之間的值(機率)\n",
    "def sigmoid(x, w0, w1):\n",
    "    logit_odds = w0 + w1 * x\n",
    "    return 1 / (1 + np.exp(-logit_odds))\n",
    "    "
   ]
  },
  {
   "cell_type": "markdown",
   "metadata": {},
   "source": [
    "## Step 9: 視覺化轉換結果圖"
   ]
  },
  {
   "cell_type": "code",
   "execution_count": 9,
   "metadata": {},
   "outputs": [
    {
     "data": {
      "text/plain": [
       "<matplotlib.lines.Line2D at 0x19d988ac808>"
      ]
     },
     "execution_count": 9,
     "metadata": {},
     "output_type": "execute_result"
    },
    {
     "data": {
      "image/png": "[encoded data removed]",
      "text/plain": [
       "<Figure size 432x288 with 1 Axes>"
      ]
     },
     "metadata": {
      "needs_background": "light"
     },
     "output_type": "display_data"
    }
   ],
   "source": [
    "## 視覺化後Sigmoid圖\n",
    "x = np.arange(0, 20, 1)\n",
    "result = sigmoid(x, w0, w1)\n",
    "\n",
    "plt.plot(x, result)\n",
    "\n",
    "## 畫出50%的機率線\n",
    "plt.axhline(y = 0.5, ls = 'dotted', color = 'y')\n"
   ]
  },
  {
   "cell_type": "markdown",
   "metadata": {},
   "source": [
    "## Step 10: 預測測試集"
   ]
  },
  {
   "cell_type": "code",
   "execution_count": 10,
   "metadata": {},
   "outputs": [
    {
     "name": "stdout",
     "output_type": "stream",
     "text": [
      "Real Result:  [0 0 1 0]\n",
      "Model Predict:  [0 0 1 1]\n",
      "Define your own data and predict:  [0 1 1 1 1 1 1 1]\n"
     ]
    }
   ],
   "source": [
    "## 預測測試集\n",
    "prediction = model.predict(X_test)\n",
    "\n",
    "print('Real Result: ', y_test)\n",
    "print('Model Predict: ', prediction)\n",
    "\n",
    "\n",
    "## 預測自行定義的數據集\n",
    "result = model.predict([[1], [2], [2.5], [3], [3.5], [4], [5], [6]])\n",
    "\n",
    "print('Define your own data and predict: ', result)"
   ]
  },
  {
   "cell_type": "markdown",
   "metadata": {},
   "source": [
    "## Step 11: 模型預測測試集中每筆數據為0或1的機率"
   ]
  },
  {
   "cell_type": "code",
   "execution_count": 11,
   "metadata": {},
   "outputs": [
    {
     "name": "stdout",
     "output_type": "stream",
     "text": [
      "Probability (0 or 1) [[0.57795636 0.42204364]\n",
      " [0.57795636 0.42204364]\n",
      " [0.47673624 0.52326376]\n",
      " [0.37739164 0.62260836]]\n"
     ]
    }
   ],
   "source": [
    "## 預測測試集為1或0的機率\n",
    "proba = model.predict_proba(X_test)\n",
    "print('Probability (0 or 1)', proba)"
   ]
  },
  {
   "cell_type": "markdown",
   "metadata": {},
   "source": [
    "## Step 12: 模型表現 - 準確度 Accuracy"
   ]
  },
  {
   "cell_type": "code",
   "execution_count": 12,
   "metadata": {},
   "outputs": [
    {
     "name": "stdout",
     "output_type": "stream",
     "text": [
      "Accuracy :75.0%\n"
     ]
    }
   ],
   "source": [
    "## 模型表現\n",
    "score = model.score(X_test, y_test)\n",
    "print('Accuracy :' + str(score * 100) + '%')"
   ]
  },
  {
   "cell_type": "code",
   "execution_count": null,
   "metadata": {},
   "outputs": [],
   "source": []
  }
 ],
 "metadata": {
  "kernelspec": {
   "display_name": "Python 3",
   "language": "python",
   "name": "python3"
  },
  "language_info": {
   "codemirror_mode": {
    "name": "ipython",
    "version": 3
   },
   "file_extension": ".py",
   "mimetype": "text/x-python",
   "name": "python",
   "nbconvert_exporter": "python",
   "pygments_lexer": "ipython3",
   "version": "3.7.10"
  }
 },
 "nbformat": 4,
 "nbformat_minor": 4
}
