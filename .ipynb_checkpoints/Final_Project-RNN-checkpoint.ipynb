{
 "cells": [
  {
   "cell_type": "code",
   "execution_count": null,
   "id": "d343102f",
   "metadata": {},
   "outputs": [],
   "source": []
  },
  {
   "cell_type": "code",
   "execution_count": 1,
   "id": "15228c25",
   "metadata": {},
   "outputs": [],
   "source": [
    "import numpy as np\n",
    "import pandas as pd\n",
    "import matplotlib.pyplot as plt\n",
    "import math\n",
    "from sklearn.preprocessing import MinMaxScaler\n",
    "from sklearn.metrics import mean_squared_error\n",
    "from keras.models import Sequential\n",
    "from keras.layers import Dense,Dropout\n",
    "from keras.layers.recurrent import SimpleRNN\n",
    "from datetime import datetime\n",
    "import matplotlib.dates as mdates"
   ]
  },
  {
   "cell_type": "code",
   "execution_count": null,
   "id": "326fd439",
   "metadata": {},
   "outputs": [],
   "source": []
  },
  {
   "cell_type": "code",
   "execution_count": 2,
   "id": "462da8b4",
   "metadata": {},
   "outputs": [],
   "source": [
    "df = pd.read_csv('data\\owl_world.csv')"
   ]
  },
  {
   "cell_type": "code",
   "execution_count": 3,
   "id": "3a5c934a",
   "metadata": {
    "scrolled": false
   },
   "outputs": [
    {
     "data": {
      "text/html": [
       "<div>\n",
       "<style scoped>\n",
       "    .dataframe tbody tr th:only-of-type {\n",
       "        vertical-align: middle;\n",
       "    }\n",
       "\n",
       "    .dataframe tbody tr th {\n",
       "        vertical-align: top;\n",
       "    }\n",
       "\n",
       "    .dataframe thead th {\n",
       "        text-align: right;\n",
       "    }\n",
       "</style>\n",
       "<table border=\"1\" class=\"dataframe\">\n",
       "  <thead>\n",
       "    <tr style=\"text-align: right;\">\n",
       "      <th></th>\n",
       "      <th>Date</th>\n",
       "      <th>Total_cases</th>\n",
       "      <th>New_cases</th>\n",
       "      <th>Total_deaths</th>\n",
       "      <th>New_deaths</th>\n",
       "      <th>Total_vaccinations</th>\n",
       "      <th>New_vaccinations</th>\n",
       "    </tr>\n",
       "  </thead>\n",
       "  <tbody>\n",
       "    <tr>\n",
       "      <th>511</th>\n",
       "      <td>2021/6/10</td>\n",
       "      <td>12222.0</td>\n",
       "      <td>254</td>\n",
       "      <td>361.0</td>\n",
       "      <td>28.0</td>\n",
       "      <td>782300.0</td>\n",
       "      <td>22554.0</td>\n",
       "    </tr>\n",
       "    <tr>\n",
       "      <th>512</th>\n",
       "      <td>2021/6/11</td>\n",
       "      <td>12500.0</td>\n",
       "      <td>278</td>\n",
       "      <td>385.0</td>\n",
       "      <td>24.0</td>\n",
       "      <td>799129.0</td>\n",
       "      <td>16829.0</td>\n",
       "    </tr>\n",
       "    <tr>\n",
       "      <th>513</th>\n",
       "      <td>2021/6/12</td>\n",
       "      <td>12746.0</td>\n",
       "      <td>246</td>\n",
       "      <td>411.0</td>\n",
       "      <td>26.0</td>\n",
       "      <td>0.0</td>\n",
       "      <td>0.0</td>\n",
       "    </tr>\n",
       "    <tr>\n",
       "      <th>514</th>\n",
       "      <td>2021/6/13</td>\n",
       "      <td>12921.0</td>\n",
       "      <td>175</td>\n",
       "      <td>437.0</td>\n",
       "      <td>26.0</td>\n",
       "      <td>0.0</td>\n",
       "      <td>0.0</td>\n",
       "    </tr>\n",
       "    <tr>\n",
       "      <th>515</th>\n",
       "      <td>2021/6/14</td>\n",
       "      <td>13106.0</td>\n",
       "      <td>185</td>\n",
       "      <td>452.0</td>\n",
       "      <td>15.0</td>\n",
       "      <td>855125.0</td>\n",
       "      <td>0.0</td>\n",
       "    </tr>\n",
       "    <tr>\n",
       "      <th>516</th>\n",
       "      <td>2021/6/15</td>\n",
       "      <td>13241.0</td>\n",
       "      <td>135</td>\n",
       "      <td>460.0</td>\n",
       "      <td>8.0</td>\n",
       "      <td>1009160.0</td>\n",
       "      <td>154035.0</td>\n",
       "    </tr>\n",
       "    <tr>\n",
       "      <th>517</th>\n",
       "      <td>2021/6/16</td>\n",
       "      <td>13408.0</td>\n",
       "      <td>167</td>\n",
       "      <td>478.0</td>\n",
       "      <td>18.0</td>\n",
       "      <td>0.0</td>\n",
       "      <td>0.0</td>\n",
       "    </tr>\n",
       "    <tr>\n",
       "      <th>518</th>\n",
       "      <td>2021/6/17</td>\n",
       "      <td>NaN</td>\n",
       "      <td>175</td>\n",
       "      <td>NaN</td>\n",
       "      <td>NaN</td>\n",
       "      <td>NaN</td>\n",
       "      <td>NaN</td>\n",
       "    </tr>\n",
       "    <tr>\n",
       "      <th>519</th>\n",
       "      <td>2021/6/18</td>\n",
       "      <td>NaN</td>\n",
       "      <td>187</td>\n",
       "      <td>NaN</td>\n",
       "      <td>NaN</td>\n",
       "      <td>NaN</td>\n",
       "      <td>NaN</td>\n",
       "    </tr>\n",
       "    <tr>\n",
       "      <th>520</th>\n",
       "      <td>2021/6/19</td>\n",
       "      <td>NaN</td>\n",
       "      <td>127</td>\n",
       "      <td>NaN</td>\n",
       "      <td>NaN</td>\n",
       "      <td>NaN</td>\n",
       "      <td>NaN</td>\n",
       "    </tr>\n",
       "  </tbody>\n",
       "</table>\n",
       "</div>"
      ],
      "text/plain": [
       "          Date  Total_cases  New_cases  Total_deaths  New_deaths  \\\n",
       "511  2021/6/10      12222.0        254         361.0        28.0   \n",
       "512  2021/6/11      12500.0        278         385.0        24.0   \n",
       "513  2021/6/12      12746.0        246         411.0        26.0   \n",
       "514  2021/6/13      12921.0        175         437.0        26.0   \n",
       "515  2021/6/14      13106.0        185         452.0        15.0   \n",
       "516  2021/6/15      13241.0        135         460.0         8.0   \n",
       "517  2021/6/16      13408.0        167         478.0        18.0   \n",
       "518  2021/6/17          NaN        175           NaN         NaN   \n",
       "519  2021/6/18          NaN        187           NaN         NaN   \n",
       "520  2021/6/19          NaN        127           NaN         NaN   \n",
       "\n",
       "     Total_vaccinations  New_vaccinations  \n",
       "511            782300.0           22554.0  \n",
       "512            799129.0           16829.0  \n",
       "513                 0.0               0.0  \n",
       "514                 0.0               0.0  \n",
       "515            855125.0               0.0  \n",
       "516           1009160.0          154035.0  \n",
       "517                 0.0               0.0  \n",
       "518                 NaN               NaN  \n",
       "519                 NaN               NaN  \n",
       "520                 NaN               NaN  "
      ]
     },
     "execution_count": 3,
     "metadata": {},
     "output_type": "execute_result"
    }
   ],
   "source": [
    "df.tail(10)"
   ]
  },
  {
   "cell_type": "code",
   "execution_count": 4,
   "id": "f43a7aad",
   "metadata": {},
   "outputs": [
    {
     "data": {
      "image/png": "[encoded data removed]",
      "text/plain": [
       "<Figure size 432x288 with 1 Axes>"
      ]
     },
     "metadata": {
      "needs_background": "light"
     },
     "output_type": "display_data"
    }
   ],
   "source": [
    "date = df['Date'].values\n",
    "cases = df['New_cases'].values\n",
    "plt.plot(date, cases , color = 'blue')\n",
    "plt.title('New_cases')\n",
    "plt.show()"
   ]
  },
  {
   "cell_type": "code",
   "execution_count": 5,
   "id": "0387b6a2",
   "metadata": {},
   "outputs": [
    {
     "data": {
      "text/html": [
       "<div>\n",
       "<style scoped>\n",
       "    .dataframe tbody tr th:only-of-type {\n",
       "        vertical-align: middle;\n",
       "    }\n",
       "\n",
       "    .dataframe tbody tr th {\n",
       "        vertical-align: top;\n",
       "    }\n",
       "\n",
       "    .dataframe thead th {\n",
       "        text-align: right;\n",
       "    }\n",
       "</style>\n",
       "<table border=\"1\" class=\"dataframe\">\n",
       "  <thead>\n",
       "    <tr style=\"text-align: right;\">\n",
       "      <th></th>\n",
       "      <th>Date</th>\n",
       "      <th>New_cases</th>\n",
       "    </tr>\n",
       "  </thead>\n",
       "  <tbody>\n",
       "    <tr>\n",
       "      <th>511</th>\n",
       "      <td>2021/6/10</td>\n",
       "      <td>254</td>\n",
       "    </tr>\n",
       "    <tr>\n",
       "      <th>512</th>\n",
       "      <td>2021/6/11</td>\n",
       "      <td>278</td>\n",
       "    </tr>\n",
       "    <tr>\n",
       "      <th>513</th>\n",
       "      <td>2021/6/12</td>\n",
       "      <td>246</td>\n",
       "    </tr>\n",
       "    <tr>\n",
       "      <th>514</th>\n",
       "      <td>2021/6/13</td>\n",
       "      <td>175</td>\n",
       "    </tr>\n",
       "    <tr>\n",
       "      <th>515</th>\n",
       "      <td>2021/6/14</td>\n",
       "      <td>185</td>\n",
       "    </tr>\n",
       "    <tr>\n",
       "      <th>516</th>\n",
       "      <td>2021/6/15</td>\n",
       "      <td>135</td>\n",
       "    </tr>\n",
       "    <tr>\n",
       "      <th>517</th>\n",
       "      <td>2021/6/16</td>\n",
       "      <td>167</td>\n",
       "    </tr>\n",
       "    <tr>\n",
       "      <th>518</th>\n",
       "      <td>2021/6/17</td>\n",
       "      <td>175</td>\n",
       "    </tr>\n",
       "    <tr>\n",
       "      <th>519</th>\n",
       "      <td>2021/6/18</td>\n",
       "      <td>187</td>\n",
       "    </tr>\n",
       "    <tr>\n",
       "      <th>520</th>\n",
       "      <td>2021/6/19</td>\n",
       "      <td>127</td>\n",
       "    </tr>\n",
       "  </tbody>\n",
       "</table>\n",
       "</div>"
      ],
      "text/plain": [
       "          Date  New_cases\n",
       "511  2021/6/10        254\n",
       "512  2021/6/11        278\n",
       "513  2021/6/12        246\n",
       "514  2021/6/13        175\n",
       "515  2021/6/14        185\n",
       "516  2021/6/15        135\n",
       "517  2021/6/16        167\n",
       "518  2021/6/17        175\n",
       "519  2021/6/18        187\n",
       "520  2021/6/19        127"
      ]
     },
     "execution_count": 5,
     "metadata": {},
     "output_type": "execute_result"
    }
   ],
   "source": [
    "col =['Date', 'New_cases']\n",
    "df2 = df[col]\n",
    "df2.tail(10)"
   ]
  },
  {
   "cell_type": "code",
   "execution_count": 6,
   "id": "cce08882",
   "metadata": {},
   "outputs": [],
   "source": [
    "def create_dataset (dataset, look_back = 1):\n",
    "    dataX, dataY = [], []\n",
    "    for i in range(len(dataset) - look_back):\n",
    "        a = dataset[i:(i +look_back), 0]\n",
    "        dataX.append(a)\n",
    "        dataY.append(dataset[i +look_back, 0])\n",
    "    return np.array(dataX), np.array(dataY)"
   ]
  },
  {
   "cell_type": "code",
   "execution_count": 7,
   "id": "85d136b2",
   "metadata": {},
   "outputs": [],
   "source": [
    "rate = 0.98\n",
    "train_size = int(len(cases) * rate)\n",
    "test_size = len(cases) - train_size\n",
    "train, test = cases[0:train_size], cases[train_size:len(cases)]"
   ]
  },
  {
   "cell_type": "code",
   "execution_count": 8,
   "id": "a2834993",
   "metadata": {},
   "outputs": [],
   "source": [
    "#建立MinMaxScaler物件\n",
    "minmax = MinMaxScaler()\n",
    "# 資料標準化\n",
    "train_minmax = minmax.fit_transform(train.reshape(-1,1))\n",
    "test_minmax = minmax.transform(test.reshape(-1,1))"
   ]
  },
  {
   "cell_type": "code",
   "execution_count": 9,
   "id": "297ec708",
   "metadata": {},
   "outputs": [],
   "source": [
    "look_back = 1\n",
    "trainX, trainY = create_dataset(train_minmax, look_back)\n",
    "testX, testY = create_dataset(test_minmax, look_back)"
   ]
  },
  {
   "cell_type": "code",
   "execution_count": 10,
   "id": "d72baa67",
   "metadata": {},
   "outputs": [],
   "source": [
    "trainX = trainX.reshape(len(trainX), 1, trainX.shape[1])\n",
    "testX = testX.reshape(len(testX), 1, testX.shape[1])"
   ]
  },
  {
   "attachments": {
    "image-2.png": {
     "image/png": "[encoded data removed]"
    }
   },
   "cell_type": "markdown",
   "id": "b7dc9aec",
   "metadata": {},
   "source": [
    "# RNN\n",
    "![image-2.png](attachment:image-2.png)\n"
   ]
  },
  {
   "cell_type": "code",
   "execution_count": 11,
   "id": "7ce3a229",
   "metadata": {},
   "outputs": [],
   "source": [
    "model = Sequential()"
   ]
  },
  {
   "cell_type": "code",
   "execution_count": 12,
   "id": "f7cf4762",
   "metadata": {},
   "outputs": [],
   "source": [
    "model.add(SimpleRNN(50, input_shape = (trainX.shape[1:]), return_sequences=True))"
   ]
  },
  {
   "cell_type": "code",
   "execution_count": 13,
   "id": "841df210",
   "metadata": {},
   "outputs": [],
   "source": [
    "model.add(Dropout(0.2))"
   ]
  },
  {
   "cell_type": "code",
   "execution_count": 14,
   "id": "17fe8fe9",
   "metadata": {},
   "outputs": [],
   "source": [
    "model.add(SimpleRNN(50, return_sequences=True))"
   ]
  },
  {
   "cell_type": "code",
   "execution_count": 15,
   "id": "9203a8bc",
   "metadata": {},
   "outputs": [],
   "source": [
    "model.add(Dropout(0.2))"
   ]
  },
  {
   "cell_type": "code",
   "execution_count": 16,
   "id": "a19e0fa6",
   "metadata": {},
   "outputs": [],
   "source": [
    "model.add(SimpleRNN(50, return_sequences=True))"
   ]
  },
  {
   "cell_type": "code",
   "execution_count": 17,
   "id": "96023c98",
   "metadata": {},
   "outputs": [],
   "source": [
    "model.add(Dropout(0.2))"
   ]
  },
  {
   "cell_type": "code",
   "execution_count": 18,
   "id": "929c4711",
   "metadata": {},
   "outputs": [],
   "source": [
    "model.add(SimpleRNN(50))"
   ]
  },
  {
   "cell_type": "code",
   "execution_count": 19,
   "id": "869a2ee9",
   "metadata": {},
   "outputs": [],
   "source": [
    "model.add(Dropout(0.2))"
   ]
  },
  {
   "cell_type": "code",
   "execution_count": 20,
   "id": "fd5c8f3d",
   "metadata": {},
   "outputs": [],
   "source": [
    "model.add(Dense(units=1,\n",
    "                activation='relu' ))"
   ]
  },
  {
   "cell_type": "code",
   "execution_count": 21,
   "id": "ef4f2a92",
   "metadata": {},
   "outputs": [
    {
     "name": "stdout",
     "output_type": "stream",
     "text": [
      "Model: \"sequential\"\n",
      "_________________________________________________________________\n",
      "Layer (type)                 Output Shape              Param #   \n",
      "=================================================================\n",
      "simple_rnn (SimpleRNN)       (None, 1, 50)             2600      \n",
      "_________________________________________________________________\n",
      "dropout (Dropout)            (None, 1, 50)             0         \n",
      "_________________________________________________________________\n",
      "simple_rnn_1 (SimpleRNN)     (None, 1, 50)             5050      \n",
      "_________________________________________________________________\n",
      "dropout_1 (Dropout)          (None, 1, 50)             0         \n",
      "_________________________________________________________________\n",
      "simple_rnn_2 (SimpleRNN)     (None, 1, 50)             5050      \n",
      "_________________________________________________________________\n",
      "dropout_2 (Dropout)          (None, 1, 50)             0         \n",
      "_________________________________________________________________\n",
      "simple_rnn_3 (SimpleRNN)     (None, 50)                5050      \n",
      "_________________________________________________________________\n",
      "dropout_3 (Dropout)          (None, 50)                0         \n",
      "_________________________________________________________________\n",
      "dense (Dense)                (None, 1)                 51        \n",
      "=================================================================\n",
      "Total params: 17,801\n",
      "Trainable params: 17,801\n",
      "Non-trainable params: 0\n",
      "_________________________________________________________________\n"
     ]
    }
   ],
   "source": [
    "model.summary()"
   ]
  },
  {
   "cell_type": "code",
   "execution_count": 22,
   "id": "e4911a0e",
   "metadata": {},
   "outputs": [],
   "source": [
    "model.compile(loss='mean_squared_error',\n",
    "              optimizer='rmsprop')"
   ]
  },
  {
   "cell_type": "code",
   "execution_count": 23,
   "id": "5f2ec37f",
   "metadata": {},
   "outputs": [
    {
     "name": "stdout",
     "output_type": "stream",
     "text": [
      "Epoch 1/50\n",
      "51/51 [==============================] - 0s 3ms/step - loss: 0.0096\n",
      "Epoch 2/50\n",
      "51/51 [==============================] - 0s 3ms/step - loss: 0.0047\n",
      "Epoch 3/50\n",
      "51/51 [==============================] - 0s 3ms/step - loss: 0.0044\n",
      "Epoch 4/50\n",
      "51/51 [==============================] - 0s 2ms/step - loss: 0.0060\n",
      "Epoch 5/50\n",
      "51/51 [==============================] - 0s 2ms/step - loss: 0.0031\n",
      "Epoch 6/50\n",
      "51/51 [==============================] - 0s 2ms/step - loss: 0.0022\n",
      "Epoch 7/50\n",
      "51/51 [==============================] - 0s 2ms/step - loss: 0.0045\n",
      "Epoch 8/50\n",
      "51/51 [==============================] - 0s 2ms/step - loss: 0.0038\n",
      "Epoch 9/50\n",
      "51/51 [==============================] - 0s 2ms/step - loss: 0.0045\n",
      "Epoch 10/50\n",
      "51/51 [==============================] - 0s 2ms/step - loss: 0.0039\n",
      "Epoch 11/50\n",
      "51/51 [==============================] - 0s 2ms/step - loss: 0.0032\n",
      "Epoch 12/50\n",
      "51/51 [==============================] - 0s 2ms/step - loss: 0.0040\n",
      "Epoch 13/50\n",
      "51/51 [==============================] - 0s 2ms/step - loss: 0.0037\n",
      "Epoch 14/50\n",
      "51/51 [==============================] - 0s 2ms/step - loss: 0.0029\n",
      "Epoch 15/50\n",
      "51/51 [==============================] - 0s 2ms/step - loss: 0.0030\n",
      "Epoch 16/50\n",
      "51/51 [==============================] - 0s 2ms/step - loss: 0.0041\n",
      "Epoch 17/50\n",
      "51/51 [==============================] - 0s 2ms/step - loss: 0.0037\n",
      "Epoch 18/50\n",
      "51/51 [==============================] - 0s 3ms/step - loss: 0.0042\n",
      "Epoch 19/50\n",
      "51/51 [==============================] - 0s 2ms/step - loss: 0.0036\n",
      "Epoch 20/50\n",
      "51/51 [==============================] - 0s 2ms/step - loss: 0.0022\n",
      "Epoch 21/50\n",
      "51/51 [==============================] - 0s 2ms/step - loss: 0.0040\n",
      "Epoch 22/50\n",
      "51/51 [==============================] - 0s 2ms/step - loss: 0.0035\n",
      "Epoch 23/50\n",
      "51/51 [==============================] - 0s 2ms/step - loss: 0.0039\n",
      "Epoch 24/50\n",
      "51/51 [==============================] - 0s 2ms/step - loss: 0.0034\n",
      "Epoch 25/50\n",
      "51/51 [==============================] - 0s 2ms/step - loss: 0.0034\n",
      "Epoch 26/50\n",
      "51/51 [==============================] - 0s 2ms/step - loss: 0.0025\n",
      "Epoch 27/50\n",
      "51/51 [==============================] - 0s 2ms/step - loss: 0.0040\n",
      "Epoch 28/50\n",
      "51/51 [==============================] - 0s 2ms/step - loss: 0.0059\n",
      "Epoch 29/50\n",
      "51/51 [==============================] - 0s 2ms/step - loss: 0.0029\n",
      "Epoch 30/50\n",
      "51/51 [==============================] - 0s 2ms/step - loss: 0.0029\n",
      "Epoch 31/50\n",
      "51/51 [==============================] - 0s 3ms/step - loss: 0.0033\n",
      "Epoch 32/50\n",
      "51/51 [==============================] - 0s 2ms/step - loss: 0.0026\n",
      "Epoch 33/50\n",
      "51/51 [==============================] - 0s 2ms/step - loss: 0.0034\n",
      "Epoch 34/50\n",
      "51/51 [==============================] - 0s 2ms/step - loss: 0.0034\n",
      "Epoch 35/50\n",
      "51/51 [==============================] - 0s 2ms/step - loss: 0.0031\n",
      "Epoch 36/50\n",
      "51/51 [==============================] - 0s 2ms/step - loss: 0.0037\n",
      "Epoch 37/50\n",
      "51/51 [==============================] - 0s 2ms/step - loss: 0.0031\n",
      "Epoch 38/50\n",
      "51/51 [==============================] - 0s 2ms/step - loss: 0.0039\n",
      "Epoch 39/50\n",
      "51/51 [==============================] - 0s 2ms/step - loss: 0.0037\n",
      "Epoch 40/50\n",
      "51/51 [==============================] - 0s 2ms/step - loss: 0.0032\n",
      "Epoch 41/50\n",
      "51/51 [==============================] - 0s 2ms/step - loss: 0.0030\n",
      "Epoch 42/50\n",
      "51/51 [==============================] - 0s 2ms/step - loss: 0.0034\n",
      "Epoch 43/50\n",
      "51/51 [==============================] - 0s 2ms/step - loss: 0.0035\n",
      "Epoch 44/50\n",
      "51/51 [==============================] - 0s 2ms/step - loss: 0.0028\n",
      "Epoch 45/50\n",
      "51/51 [==============================] - 0s 2ms/step - loss: 0.0040\n",
      "Epoch 46/50\n",
      "51/51 [==============================] - 0s 3ms/step - loss: 0.0032\n",
      "Epoch 47/50\n",
      "51/51 [==============================] - 0s 2ms/step - loss: 0.0031\n",
      "Epoch 48/50\n",
      "51/51 [==============================] - 0s 2ms/step - loss: 0.0033\n",
      "Epoch 49/50\n",
      "51/51 [==============================] - 0s 2ms/step - loss: 0.0022\n",
      "Epoch 50/50\n",
      "51/51 [==============================] - 0s 2ms/step - loss: 0.0029\n"
     ]
    }
   ],
   "source": [
    "train_history = model.fit(trainX, trainY,\n",
    "                          batch_size=10, \n",
    "                          epochs=50,\n",
    "                          verbose=1)"
   ]
  },
  {
   "cell_type": "code",
   "execution_count": 24,
   "id": "39b1a2b5",
   "metadata": {},
   "outputs": [
    {
     "data": {
      "image/png": "[encoded data removed]",
      "text/plain": [
       "<Figure size 432x288 with 1 Axes>"
      ]
     },
     "metadata": {
      "needs_background": "light"
     },
     "output_type": "display_data"
    }
   ],
   "source": [
    "def show_train_history(loss):\n",
    "    plt.plot(train_history.history[loss])\n",
    "    plt.title('Train History')\n",
    "    plt.ylabel('Loss')\n",
    "    plt.xlabel('Epoch')\n",
    "    plt.legend(['train'], loc='upper left')\n",
    "    plt.show()\n",
    "    \n",
    "show_train_history('loss')"
   ]
  },
  {
   "cell_type": "code",
   "execution_count": 25,
   "id": "94287558",
   "metadata": {},
   "outputs": [],
   "source": [
    "train_predict = model.predict(trainX)\n",
    "test_predict = model.predict(testX)"
   ]
  },
  {
   "cell_type": "code",
   "execution_count": 26,
   "id": "308f5eda",
   "metadata": {},
   "outputs": [],
   "source": [
    "trainPredict = minmax.inverse_transform(train_predict).astype('int64')\n",
    "trainY = minmax.inverse_transform(trainY.reshape(-1,1))\n",
    "testPredict = minmax.inverse_transform(test_predict).astype('int64')\n",
    "testY = minmax.inverse_transform(testY.reshape(-1,1))"
   ]
  },
  {
   "cell_type": "code",
   "execution_count": 27,
   "id": "01dc6cea",
   "metadata": {},
   "outputs": [
    {
     "name": "stdout",
     "output_type": "stream",
     "text": [
      "Train Score:  32.557973078832234\n",
      "Test Score:  48.43655644242269\n"
     ]
    }
   ],
   "source": [
    "trainScore = math.sqrt(mean_squared_error(trainY[:,0], trainPredict[:, 0]))\n",
    "print('Train Score: ', trainScore)\n",
    "testScore = math.sqrt(mean_squared_error(testY[:,0], testPredict[:, 0]))\n",
    "print('Test Score: ', testScore)"
   ]
  },
  {
   "cell_type": "code",
   "execution_count": 28,
   "id": "c329bede",
   "metadata": {},
   "outputs": [
    {
     "data": {
      "text/plain": [
       "<function matplotlib.pyplot.show(close=None, block=None)>"
      ]
     },
     "execution_count": 28,
     "metadata": {},
     "output_type": "execute_result"
    },
    {
     "data": {
      "image/png": "[encoded data removed]",
      "text/plain": [
       "<Figure size 720x360 with 1 Axes>"
      ]
     },
     "metadata": {
      "needs_background": "light"
     },
     "output_type": "display_data"
    }
   ],
   "source": [
    "plt.figure(figsize=(10,5))\n",
    "plt.plot(trainY.reshape(-1)[450:], color = 'blue', linewidth = 3)\n",
    "plt.plot(trainPredict.reshape(-1)[450:], color = 'red', linewidth = 3)\n",
    "plt.title('Training Set', fontsize=25)\n",
    "plt.legend(['Real New Cases', 'Predicted New Cases'], loc = 'upper left', fontsize=15)\n",
    "plt.show"
   ]
  },
  {
   "cell_type": "code",
   "execution_count": 29,
   "id": "8886621c",
   "metadata": {},
   "outputs": [
    {
     "data": {
      "text/plain": [
       "<function matplotlib.pyplot.show(close=None, block=None)>"
      ]
     },
     "execution_count": 29,
     "metadata": {},
     "output_type": "execute_result"
    },
    {
     "data": {
      "image/png": "[encoded data removed]",
      "text/plain": [
       "<Figure size 720x360 with 1 Axes>"
      ]
     },
     "metadata": {
      "needs_background": "light"
     },
     "output_type": "display_data"
    }
   ],
   "source": [
    "test_date = date[train_size+1:len(date)]\n",
    "plt.figure(figsize=(10,5))\n",
    "plt.plot(test_date, testY.reshape(-1), color = 'blue', linewidth = 3)\n",
    "plt.plot(test_date, testPredict.reshape(-1), color = 'red', linewidth = 3)\n",
    "plt.title('Training Set', fontsize=25)\n",
    "plt.legend(['Real New Cases', 'Predicted New Cases'], loc = 'upper right', fontsize=15)\n",
    "plt.xlabel(\"date\",fontsize=18)\n",
    "plt.ylabel(\"New Cases\",fontsize=18)\n",
    "plt.show"
   ]
  },
  {
   "cell_type": "code",
   "execution_count": 30,
   "id": "a3fb7c58",
   "metadata": {},
   "outputs": [
    {
     "data": {
      "text/plain": [
       "array([[254.],\n",
       "       [278.],\n",
       "       [246.],\n",
       "       [175.],\n",
       "       [185.],\n",
       "       [135.],\n",
       "       [167.],\n",
       "       [175.],\n",
       "       [187.],\n",
       "       [127.]])"
      ]
     },
     "execution_count": 30,
     "metadata": {},
     "output_type": "execute_result"
    }
   ],
   "source": [
    "testY"
   ]
  },
  {
   "cell_type": "code",
   "execution_count": 31,
   "id": "81916221",
   "metadata": {},
   "outputs": [
    {
     "data": {
      "text/plain": [
       "array([[244],\n",
       "       [220],\n",
       "       [249],\n",
       "       [211],\n",
       "       [126],\n",
       "       [138],\n",
       "       [ 78],\n",
       "       [117],\n",
       "       [126],\n",
       "       [141]], dtype=int64)"
      ]
     },
     "execution_count": 31,
     "metadata": {},
     "output_type": "execute_result"
    }
   ],
   "source": [
    "testPredict"
   ]
  },
  {
   "cell_type": "code",
   "execution_count": 32,
   "id": "4ec5a79a",
   "metadata": {},
   "outputs": [
    {
     "data": {
      "text/plain": [
       "array([[127.],\n",
       "       [ 69.]])"
      ]
     },
     "execution_count": 32,
     "metadata": {},
     "output_type": "execute_result"
    }
   ],
   "source": [
    "futurePredict = testY[-1:]\n",
    "def predict_newCases(val=futurePredict[-1:]):\n",
    "    global futurePredict\n",
    "    val_minmax = minmax.transform(val.reshape(-1,1))\n",
    "    future_predict = model.predict(val_minmax.reshape(-1,1,1))\n",
    "    future_Predict = minmax.inverse_transform(future_predict)\n",
    "    future_Predict = np.array(future_Predict, dtype = 'int64')\n",
    "    futurePredict = np.append(futurePredict, future_Predict, axis = 0)\n",
    "    return futurePredict\n",
    "predict_newCases()"
   ]
  },
  {
   "cell_type": "code",
   "execution_count": null,
   "id": "91b8e6cd",
   "metadata": {},
   "outputs": [],
   "source": []
  }
 ],
 "metadata": {
  "kernelspec": {
   "display_name": "Python 3",
   "language": "python",
   "name": "python3"
  },
  "language_info": {
   "codemirror_mode": {
    "name": "ipython",
    "version": 3
   },
   "file_extension": ".py",
   "mimetype": "text/x-python",
   "name": "python",
   "nbconvert_exporter": "python",
   "pygments_lexer": "ipython3",
   "version": "3.8.8"
  }
 },
 "nbformat": 4,
 "nbformat_minor": 5
}
