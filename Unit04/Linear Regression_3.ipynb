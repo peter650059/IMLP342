{
 "cells": [
  {
   "cell_type": "markdown",
   "metadata": {},
   "source": [
    "# Linear Regression\n"
   ]
  },
  {
   "cell_type": "code",
   "execution_count": 1,
   "metadata": {},
   "outputs": [],
   "source": [
    "%matplotlib inline\n",
    "import numpy as np\n",
    "import matplotlib.pyplot as plt\n",
    "from sklearn.linear_model import LinearRegression"
   ]
  },
  {
   "cell_type": "markdown",
   "metadata": {},
   "source": [
    "## 3. Nonlinear\n",
    "\n",
    "$$f(x) = \\sin(3.2x) + 0.8x$$\n"
   ]
  },
  {
   "cell_type": "markdown",
   "metadata": {},
   "source": [
    "### 3. 生成假資料"
   ]
  },
  {
   "cell_type": "code",
   "execution_count": 2,
   "metadata": {},
   "outputs": [],
   "source": [
    "x = np.linspace(0, 5, 100)\n",
    "y = np.sin(3.2*x) + 0.8*x + 0.3*np.random.randn(100)"
   ]
  },
  {
   "cell_type": "code",
   "execution_count": 3,
   "metadata": {},
   "outputs": [
    {
     "data": {
      "text/plain": [
       "<matplotlib.collections.PathCollection at 0x20b7a4b1550>"
      ]
     },
     "execution_count": 3,
     "metadata": {},
     "output_type": "execute_result"
    },
    {
     "data": {
      "image/png": "[encoded data removed]",
      "text/plain": [
       "<Figure size 432x288 with 1 Axes>"
      ]
     },
     "metadata": {
      "needs_background": "light"
     },
     "output_type": "display_data"
    }
   ],
   "source": [
    "plt.scatter(x,y)"
   ]
  },
  {
   "cell_type": "markdown",
   "metadata": {},
   "source": [
    "#### nonlinear"
   ]
  },
  {
   "cell_type": "code",
   "execution_count": 4,
   "metadata": {},
   "outputs": [],
   "source": [
    "regr_lin = LinearRegression()"
   ]
  },
  {
   "cell_type": "code",
   "execution_count": 5,
   "metadata": {},
   "outputs": [
    {
     "name": "stdout",
     "output_type": "stream",
     "text": [
      "(100, 1)\n"
     ]
    }
   ],
   "source": [
    "X = x.reshape(-1, 1)\n",
    "print(X.shape)"
   ]
  },
  {
   "cell_type": "code",
   "execution_count": 6,
   "metadata": {},
   "outputs": [
    {
     "data": {
      "text/plain": [
       "LinearRegression()"
      ]
     },
     "execution_count": 6,
     "metadata": {},
     "output_type": "execute_result"
    }
   ],
   "source": [
    "regr_lin.fit(X,y)"
   ]
  },
  {
   "cell_type": "code",
   "execution_count": 7,
   "metadata": {},
   "outputs": [
    {
     "name": "stdout",
     "output_type": "stream",
     "text": [
      "0.5019105904989016\n"
     ]
    },
    {
     "data": {
      "image/png": "[encoded data removed]",
      "text/plain": [
       "<Figure size 432x288 with 1 Axes>"
      ]
     },
     "metadata": {
      "needs_background": "light"
     },
     "output_type": "display_data"
    }
   ],
   "source": [
    "Y=regr_lin.predict(X)\n",
    "plt.scatter(x,y)\n",
    "plt.plot(x,Y , color='r')\n",
    "mse = np.sum((Y-y)**2) / len(y)\n",
    "print(mse)"
   ]
  },
  {
   "cell_type": "markdown",
   "metadata": {},
   "source": [
    "果然超級不準, 該如何是好?"
   ]
  },
  {
   "cell_type": "markdown",
   "metadata": {},
   "source": [
    "#### 多項式\n",
    "\n",
    "多項式5次方"
   ]
  },
  {
   "cell_type": "markdown",
   "metadata": {},
   "source": [
    "$$\\widehat{y}=xw+b=w_{1}x_{1}+w_{2}x_{1}^{2}+w_{3}x_{1}^{3}+w_{4}x_{1}^{4}+w_{5}x_{1}^{5}+b$$"
   ]
  },
  {
   "cell_type": "code",
   "execution_count": 8,
   "metadata": {},
   "outputs": [
    {
     "name": "stdout",
     "output_type": "stream",
     "text": [
      "(100,)\n"
     ]
    }
   ],
   "source": [
    "print(x.shape)"
   ]
  },
  {
   "cell_type": "code",
   "execution_count": 9,
   "metadata": {},
   "outputs": [
    {
     "name": "stdout",
     "output_type": "stream",
     "text": [
      "(100, 5)\n"
     ]
    }
   ],
   "source": [
    "X_poly = np.array([[k, k**2, k**3, k**4, k**5] for k in x])  # add k**6 to try it\n",
    "print(X_poly.shape)"
   ]
  },
  {
   "cell_type": "code",
   "execution_count": 10,
   "metadata": {},
   "outputs": [],
   "source": [
    "regr_poly = LinearRegression()"
   ]
  },
  {
   "cell_type": "code",
   "execution_count": 11,
   "metadata": {},
   "outputs": [
    {
     "data": {
      "text/plain": [
       "LinearRegression()"
      ]
     },
     "execution_count": 11,
     "metadata": {},
     "output_type": "execute_result"
    }
   ],
   "source": [
    "regr_poly.fit(X_poly, y)"
   ]
  },
  {
   "cell_type": "code",
   "execution_count": 12,
   "metadata": {},
   "outputs": [
    {
     "data": {
      "text/plain": [
       "[<matplotlib.lines.Line2D at 0x20b7b5cad30>]"
      ]
     },
     "execution_count": 12,
     "metadata": {},
     "output_type": "execute_result"
    },
    {
     "data": {
      "image/png": "[encoded data removed]",
      "text/plain": [
       "<Figure size 432x288 with 1 Axes>"
      ]
     },
     "metadata": {
      "needs_background": "light"
     },
     "output_type": "display_data"
    }
   ],
   "source": [
    "plt.scatter(x,y)\n",
    "plt.plot(x, regr_poly.predict(X_poly), 'r')"
   ]
  },
  {
   "cell_type": "code",
   "execution_count": 13,
   "metadata": {},
   "outputs": [
    {
     "name": "stdout",
     "output_type": "stream",
     "text": [
      "Coefficients:  [-2.552714    3.30922916 -1.45146882  0.28664146 -0.02057038]\n",
      "interception:  1.1966724510041846\n"
     ]
    }
   ],
   "source": [
    "print('Coefficients: ', regr_poly.coef_)\n",
    "print('interception: ', regr_poly.intercept_)"
   ]
  },
  {
   "cell_type": "code",
   "execution_count": 14,
   "metadata": {},
   "outputs": [
    {
     "data": {
      "text/plain": [
       "array([1.19667245, 1.07600342, 0.97112048, 0.88096782, 0.80453278,\n",
       "       0.74084503, 0.68897576, 0.64803685, 0.61718007, 0.59559629,\n",
       "       0.58251465, 0.57720172, 0.57896075, 0.58713082, 0.60108604,\n",
       "       0.62023471, 0.64401857, 0.67191192, 0.70342087, 0.73808248,\n",
       "       0.77546398, 0.81516195, 0.85680148, 0.90003544, 0.94454355,\n",
       "       0.99003169, 1.036231  , 1.08289712, 1.12980933, 1.1767698 ,\n",
       "       1.22360275, 1.2701536 , 1.31628824, 1.36189214, 1.4068696 ,\n",
       "       1.45114289, 1.49465148, 1.53735119, 1.57921342, 1.6202243 ,\n",
       "       1.6603839 , 1.69970543, 1.7382144 , 1.77594783, 1.81295341,\n",
       "       1.84928875, 1.88502049, 1.92022357, 1.95498033, 1.98937979,\n",
       "       2.02351676, 2.05749109, 2.09140683, 2.12537139, 2.1594948 ,\n",
       "       2.19388885, 2.22866626, 2.26393994, 2.29982211, 2.33642351,\n",
       "       2.37385261, 2.41221478, 2.45161147, 2.49213942, 2.53388984,\n",
       "       2.57694759, 2.62139038, 2.66728795, 2.71470129, 2.76368177,\n",
       "       2.81427037, 2.86649689, 2.92037907, 2.97592184, 3.03311648,\n",
       "       3.09193983, 3.15235344, 3.21430282, 3.27771656, 3.34250557,\n",
       "       3.40856224, 3.47575964, 3.54395073, 3.6129675 , 3.6826202 ,\n",
       "       3.75269651, 3.82296073, 3.89315299, 3.96298841, 4.03215629,\n",
       "       4.10031932, 4.16711277, 4.23214365, 4.29498991, 4.35519967,\n",
       "       4.41229032, 4.46574782, 4.51502578, 4.55954474, 4.59869129])"
      ]
     },
     "execution_count": 14,
     "metadata": {},
     "output_type": "execute_result"
    }
   ],
   "source": [
    "W=regr_poly.coef_\n",
    "b=regr_poly.intercept_\n",
    "np.dot(X_poly,W.T)+b"
   ]
  },
  {
   "cell_type": "code",
   "execution_count": 15,
   "metadata": {},
   "outputs": [
    {
     "data": {
      "text/plain": [
       "array([1.19667245, 1.07600342, 0.97112048, 0.88096782, 0.80453278,\n",
       "       0.74084503, 0.68897576, 0.64803685, 0.61718007, 0.59559629,\n",
       "       0.58251465, 0.57720172, 0.57896075, 0.58713082, 0.60108604,\n",
       "       0.62023471, 0.64401857, 0.67191192, 0.70342087, 0.73808248,\n",
       "       0.77546398, 0.81516195, 0.85680148, 0.90003544, 0.94454355,\n",
       "       0.99003169, 1.036231  , 1.08289712, 1.12980933, 1.1767698 ,\n",
       "       1.22360275, 1.2701536 , 1.31628824, 1.36189214, 1.4068696 ,\n",
       "       1.45114289, 1.49465148, 1.53735119, 1.57921342, 1.6202243 ,\n",
       "       1.6603839 , 1.69970543, 1.7382144 , 1.77594783, 1.81295341,\n",
       "       1.84928875, 1.88502049, 1.92022357, 1.95498033, 1.98937979,\n",
       "       2.02351676, 2.05749109, 2.09140683, 2.12537139, 2.1594948 ,\n",
       "       2.19388885, 2.22866626, 2.26393994, 2.29982211, 2.33642351,\n",
       "       2.37385261, 2.41221478, 2.45161147, 2.49213942, 2.53388984,\n",
       "       2.57694759, 2.62139038, 2.66728795, 2.71470129, 2.76368177,\n",
       "       2.81427037, 2.86649689, 2.92037907, 2.97592184, 3.03311648,\n",
       "       3.09193983, 3.15235344, 3.21430282, 3.27771656, 3.34250557,\n",
       "       3.40856224, 3.47575964, 3.54395073, 3.6129675 , 3.6826202 ,\n",
       "       3.75269651, 3.82296073, 3.89315299, 3.96298841, 4.03215629,\n",
       "       4.10031932, 4.16711277, 4.23214365, 4.29498991, 4.35519967,\n",
       "       4.41229032, 4.46574782, 4.51502578, 4.55954474, 4.59869129])"
      ]
     },
     "execution_count": 15,
     "metadata": {},
     "output_type": "execute_result"
    }
   ],
   "source": [
    "regr_poly.predict(X_poly)"
   ]
  },
  {
   "cell_type": "markdown",
   "metadata": {},
   "source": [
    "#### RBF\n",
    "\n",
    "$$\\phi_i = e^{-\\| x - c_i \\|^2/2\\sigma^2}$$"
   ]
  },
  {
   "cell_type": "code",
   "execution_count": 16,
   "metadata": {},
   "outputs": [],
   "source": [
    "# normal distrubution\n",
    "def RBF(x, center, sigma):\n",
    "    k = np.exp(-(x - center)**2/(2*sigma**2))\n",
    "    return k"
   ]
  },
  {
   "cell_type": "code",
   "execution_count": 17,
   "metadata": {},
   "outputs": [],
   "source": [
    "sigma = 0.3"
   ]
  },
  {
   "cell_type": "code",
   "execution_count": 18,
   "metadata": {},
   "outputs": [],
   "source": [
    "X_rbf = np.array([[RBF(k, .5, sigma), \n",
    "                  RBF(k, 1.5, sigma),\n",
    "                  RBF(k, 2.5, sigma),\n",
    "                  RBF(k, 3.5, sigma),\n",
    "                  RBF(k, 4.5, sigma)] for k in x])\n",
    "\n"
   ]
  },
  {
   "cell_type": "code",
   "execution_count": 19,
   "metadata": {},
   "outputs": [],
   "source": [
    "regr_rbf = LinearRegression()"
   ]
  },
  {
   "cell_type": "code",
   "execution_count": 20,
   "metadata": {},
   "outputs": [
    {
     "data": {
      "text/plain": [
       "LinearRegression()"
      ]
     },
     "execution_count": 20,
     "metadata": {},
     "output_type": "execute_result"
    }
   ],
   "source": [
    "regr_rbf.fit(X_rbf, y)"
   ]
  },
  {
   "cell_type": "code",
   "execution_count": 21,
   "metadata": {
    "scrolled": true
   },
   "outputs": [
    {
     "data": {
      "text/plain": [
       "[<matplotlib.lines.Line2D at 0x20b7b62d850>]"
      ]
     },
     "execution_count": 21,
     "metadata": {},
     "output_type": "execute_result"
    },
    {
     "data": {
      "image/png": "[encoded data removed]",
      "text/plain": [
       "<Figure size 432x288 with 1 Axes>"
      ]
     },
     "metadata": {
      "needs_background": "light"
     },
     "output_type": "display_data"
    }
   ],
   "source": [
    "plt.scatter(x,y)\n",
    "plt.plot(x, regr_rbf.predict(X_rbf), 'r')"
   ]
  },
  {
   "cell_type": "code",
   "execution_count": 22,
   "metadata": {},
   "outputs": [
    {
     "name": "stdout",
     "output_type": "stream",
     "text": [
      "Coefficients:  [-0.99603304 -1.66975462  1.250482    0.30908233  3.34458635]\n",
      "interception:  1.838095672004172\n"
     ]
    }
   ],
   "source": [
    "print('Coefficients: ', regr_rbf.coef_)\n",
    "print('interception: ', regr_rbf.intercept_)"
   ]
  },
  {
   "cell_type": "markdown",
   "metadata": {},
   "source": [
    "#### Comparison"
   ]
  },
  {
   "cell_type": "code",
   "execution_count": 23,
   "metadata": {},
   "outputs": [],
   "source": [
    "Y_lin = regr_lin.predict(X)\n",
    "Y_poly = regr_poly.predict(X_poly)\n",
    "Y_rbf = regr_rbf.predict(X_rbf)"
   ]
  },
  {
   "cell_type": "code",
   "execution_count": 24,
   "metadata": {
    "scrolled": true
   },
   "outputs": [
    {
     "data": {
      "text/plain": [
       "<matplotlib.legend.Legend at 0x20b7a4e4550>"
      ]
     },
     "execution_count": 24,
     "metadata": {},
     "output_type": "execute_result"
    },
    {
     "data": {
      "image/png": "[encoded data removed]",
      "text/plain": [
       "<Figure size 432x288 with 1 Axes>"
      ]
     },
     "metadata": {
      "needs_background": "light"
     },
     "output_type": "display_data"
    }
   ],
   "source": [
    "plt.scatter(x,y)\n",
    "\n",
    "plt.plot(x, Y_lin, label='linear')\n",
    "plt.plot(x, Y_poly, label='polynomial')\n",
    "plt.plot(x, Y_rbf, label='rbf')\n",
    "plt.legend()"
   ]
  },
  {
   "cell_type": "markdown",
   "metadata": {
    "collapsed": true
   },
   "source": [
    "## 請計算模型的MSE"
   ]
  },
  {
   "cell_type": "code",
   "execution_count": 25,
   "metadata": {},
   "outputs": [
    {
     "name": "stdout",
     "output_type": "stream",
     "text": [
      "0.5019105904989016\n"
     ]
    }
   ],
   "source": [
    "print(np.sum((regr_lin.predict(X)-y)**2) / len(y))"
   ]
  },
  {
   "cell_type": "code",
   "execution_count": 26,
   "metadata": {},
   "outputs": [
    {
     "name": "stdout",
     "output_type": "stream",
     "text": [
      "0.4339958226266203\n"
     ]
    }
   ],
   "source": [
    "print(np.sum((regr_poly.predict(X_poly)-y)**2) / len(y))"
   ]
  },
  {
   "cell_type": "code",
   "execution_count": 27,
   "metadata": {},
   "outputs": [
    {
     "name": "stdout",
     "output_type": "stream",
     "text": [
      "0.250694208220182\n"
     ]
    }
   ],
   "source": [
    "print(np.sum((regr_rbf.predict(X_rbf)-y)**2) / len(y))"
   ]
  },
  {
   "cell_type": "code",
   "execution_count": null,
   "metadata": {},
   "outputs": [],
   "source": []
  },
  {
   "cell_type": "code",
   "execution_count": null,
   "metadata": {},
   "outputs": [],
   "source": []
  }
 ],
 "metadata": {
  "anaconda-cloud": {},
  "kernelspec": {
   "display_name": "Python 3",
   "language": "python",
   "name": "python3"
  },
  "language_info": {
   "codemirror_mode": {
    "name": "ipython",
    "version": 3
   },
   "file_extension": ".py",
   "mimetype": "text/x-python",
   "name": "python",
   "nbconvert_exporter": "python",
   "pygments_lexer": "ipython3",
   "version": "3.8.5"
  }
 },
 "nbformat": 4,
 "nbformat_minor": 1
}
